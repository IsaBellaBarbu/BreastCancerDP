{
 "cells": [
  {
   "cell_type": "code",
   "execution_count": 1,
   "id": "0d721d43-6620-418f-9780-2840d263fe62",
   "metadata": {},
   "outputs": [
    {
     "name": "stdout",
     "output_type": "stream",
     "text": [
      "Daten erfolgreich in MongoDB gespeichert.\n"
     ]
    }
   ],
   "source": [
    "import pandas as pd\n",
    "from pymongo import MongoClient\n",
    "\n",
    "# Establish a connection to MongoDB and Retrieve data from MongoDB\n",
    "client = MongoClient('mongodb://localhost:27017/')\n",
    "db = client['breast_cancer_wisconsin']\n",
    "collection = db['raw_data']\n",
    "\n",
    "data = pd.DataFrame(list(collection.find()))\n",
    "\n",
    "# Remove the column 'Unnamed: 32' and 'id' if it exists.\n",
    "if 'Unnamed: 32' in data.columns:\n",
    "    data = data.drop(columns=['Unnamed: 32'])\n",
    "if 'id' in data.columns:\n",
    "    data = data.drop(columns=['id'])\n",
    "\n",
    "# Store the cleaned data in new collections in MongoDB.\n",
    "db['cleaned_data'].delete_many({})\n",
    "db['cleaned_data'].insert_many(data.to_dict('records'))\n",
    "\n",
    "print(\"Daten erfolgreich in MongoDB gespeichert.\")"
   ]
  }
 ],
 "metadata": {
  "kernelspec": {
   "display_name": "Python 3 (ipykernel)",
   "language": "python",
   "name": "python3"
  },
  "language_info": {
   "codemirror_mode": {
    "name": "ipython",
    "version": 3
   },
   "file_extension": ".py",
   "mimetype": "text/x-python",
   "name": "python",
   "nbconvert_exporter": "python",
   "pygments_lexer": "ipython3",
   "version": "3.13.0"
  }
 },
 "nbformat": 4,
 "nbformat_minor": 5
}
